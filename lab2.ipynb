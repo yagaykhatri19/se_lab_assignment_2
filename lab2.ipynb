{
 "cells": [
  {
   "cell_type": "code",
   "execution_count": 40,
   "metadata": {},
   "outputs": [],
   "source": [
    "class Employee:\n",
    "    def __init__(self, emp_id, name, age, salary):\n",
    "        self.emp_id = emp_id\n",
    "        self.name = name\n",
    "        self.age = age\n",
    "        self.salary = salary\n",
    "\n",
    "    def print_help(self):\n",
    "        return (self.emp_id, self.name, self.age, self.salary)\n",
    "\n",
    "class EmployeeTable:\n",
    "    def __init__(self, employees):\n",
    "        self.employees = employees\n",
    "\n",
    "    def sort_and_print(self, key):\n",
    "        if (key == 1):\n",
    "            sorted_employees = sorted(self.employees, key = lambda x : x.age)\n",
    "        elif (key == 2):\n",
    "            sorted_employees = sorted(self.employees, key = lambda x : x.name)\n",
    "        elif (key == 3):\n",
    "            sorted_employees = sorted(self.employees, key = lambda x : x.salary)\n",
    "        else:\n",
    "            print(\"Invalid Sorting Key\")\n",
    "            return \n",
    "        \n",
    "        for employee in sorted_employees:\n",
    "            print(*employee.print_help())"
   ]
  },
  {
   "cell_type": "code",
   "execution_count": 43,
   "metadata": {},
   "outputs": [
    {
     "name": "stdout",
     "output_type": "stream",
     "text": [
      "161E90 Ramu 35 59000\n",
      "171E22 Tejas 30 82100\n",
      "152K46 Jaya 32 85000\n",
      "171G55 Abhi 25 100000\n"
     ]
    }
   ],
   "source": [
    "emp_data = [\n",
    "    Employee(\"161E90\", \"Ramu\", 35, 59000),\n",
    "    Employee(\"171E22\", \"Tejas\", 30, 82100),\n",
    "    Employee(\"171G55\", \"Abhi\", 25, 100000),\n",
    "    Employee(\"152K46\", \"Jaya\", 32, 85000),\n",
    "]\n",
    "\n",
    "emp_table = EmployeeTable(emp_data)\n",
    "\n",
    "emp_table.sort_and_print(3)\n",
    "\n",
    "#code written by Yagay Khatri\n",
    "#for stashing"
   ]
  }
 ],
 "metadata": {
  "kernelspec": {
   "display_name": "Python 3",
   "language": "python",
   "name": "python3"
  },
  "language_info": {
   "codemirror_mode": {
    "name": "ipython",
    "version": 3
   },
   "file_extension": ".py",
   "mimetype": "text/x-python",
   "name": "python",
   "nbconvert_exporter": "python",
   "pygments_lexer": "ipython3",
   "version": "3.9.6"
  }
 },
 "nbformat": 4,
 "nbformat_minor": 2
}
